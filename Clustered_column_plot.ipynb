{
  "nbformat": 4,
  "nbformat_minor": 0,
  "metadata": {
    "colab": {
      "provenance": []
    },
    "kernelspec": {
      "name": "python3",
      "display_name": "Python 3"
    },
    "language_info": {
      "name": "python"
    }
  },
  "cells": [
    {
      "cell_type": "code",
      "execution_count": null,
      "metadata": {
        "id": "4JBzJ7Z2vobt"
      },
      "outputs": [],
      "source": [
        "import pandas as pd\n",
        "import matplotlib.pyplot as plt\n",
        "\n",
        "# Load your data into a DataFrame\n",
        "data = pd.read_csv('clustered_column_bar_plot_2.csv')\n",
        "\n",
        "# Separate the data\n",
        "inhibitors = data[data['type'] == 'inhibitor']\n",
        "activators = data[data['type'] == 'activator']\n",
        "\n",
        "# Create the clustered column plot\n",
        "plt.figure(figsize=(12, 8))\n",
        "\n",
        "# Plot inhibitors (up-bars)\n",
        "plt.bar(inhibitors['ID'], inhibitors['logRBAemp'], color='red', label='Inhibitor', alpha=0.7, align='center')\n",
        "\n",
        "# Plot activators (down-bars)\n",
        "plt.bar(activators['ID'], activators['logRBAemp'], color='blue', label='Activator', alpha=0.7, align='center')\n",
        "\n",
        "# Add a horizontal line at y=0 for separation\n",
        "plt.axhline(y=0, color='black', linestyle='--', linewidth=1)\n",
        "\n",
        "# Add labels and title\n",
        "plt.xlabel('Reference ligand_ID')\n",
        "# Rotate x-axis labels\n",
        "plt.xticks(rotation=90)\n",
        "\n",
        "plt.ylabel(r'logRBA$_{emp}}$') # Subscript example\n",
        "plt.title('Clustered Column Plot of logRBA Values')\n",
        "plt.legend()\n",
        "\n",
        "# Save and show plot\n",
        "plt.tight_layout()\n",
        "plt.savefig('clustered_column_plot_up_down_bars.jpeg', dpi=300)\n",
        "plt.show()"
      ]
    }
  ]
}